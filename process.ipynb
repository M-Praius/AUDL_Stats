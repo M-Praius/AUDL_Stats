import os
cwd = os.getcwd()

import pandas as pd
import numpy as np
import glob
import datetime
from collections import Counter
import matplotlib.pyplot as plt
from matplotlib.backends.backend_pdf import PdfPages
import csv


audl = pd.concat([pd.read_csv(dfteam, index_col=0) for dfteam in glob.glob('output\*.csv')])

# Usefull list
audl_team = sorted(audl.Teamname.unique())
audl_season = sorted(audl.Tournament.unique())


# Reset index
audl = audl.reset_index()
audl = audl.rename(index=int, columns={"index": "old_index"}) # CAN BE DROPPED


# CREATE UNIQUE TEAM ID (TID)
# Maybe unecessary but seemed easier to have an ID with numbers (See UID)
# i May change it by the 2/3 Character city code.
team = pd.DataFrame({'Team':audl_team})
team['TID'] = (team.index + 1)
team_list = team.set_index('Team').T.to_dict('index')
audl['TID'] = audl['Teamname'].map(team_list['TID'])


# CREATE YEAR ID (YID)
# Maybe unecessary but seemed easier to have an ID with numbers instead of a string with 'AUDL' in it (See UID)
audl['Date/Time'] = pd.to_datetime(audl['Date/Time'])
audl['YID'] = audl['Date/Time'].dt.year

# Unique ID Game (to avoid game from different teams with same Date/Time)
audl['Transf'] = audl['Date/Time'].astype(str) + " " + audl['Teamname']

# CREATE GAME ID
audl['GID'] = 0

GlobDIC = pd.DataFrame()
for j in audl_team:
    played_season = sorted(audl.loc[audl['Teamname']==j,'Tournament'].unique())

    for i in played_season:
        
        time = sorted(audl.loc[(audl['Teamname']==j) & (audl['Tournament']==i), 'Date/Time'].unique())
        GID_dict = pd.DataFrame({'Date':time})
        GID_dict['Date'] = pd.to_datetime(GID_dict['Date'])
        GID_dict['YID'] = GID_dict['Date'].dt.year
        GID_dict['Transfert'] = GID_dict['Date'].astype(str) + " " + j
        GID_dict['Teamname'] = j

        gid = 0
        GID_dict['GID']=0
        # print(j,flag)
        for k in range(0,len(GID_dict.index)): 
                gid += 1
                GID_dict.iloc[k,4] = gid
                
        GID_dict = GID_dict.drop(columns=['Date','Teamname','YID'])
        GID_list = GID_dict.set_index('Transfert').T.to_dict('index')
        #audl['GID'] = audl['Date/Time'].map(GID_list['GID'])
        GlobDIC = pd.concat([GlobDIC, GID_dict])
        
GID_list = GlobDIC.set_index('Transfert').T.to_dict('index')
audl['GID'] = audl['Transf'].map(GID_list['GID'])

audl = audl.drop(columns=['Transf'])



# Converting distance data   0-1 -> 0-120

audl.loc[:,'End Y'] = 54 * audl.loc[:,'End Y'].apply(pd.to_numeric)
audl.loc[:,'Begin Y'] = 54 * audl.loc[:,'Begin Y'].apply(pd.to_numeric)
audl.loc[audl['End Area'] == 'Endzone A','End X'] = 20 *(1 - audl.loc[audl['End Area'] == 'Endzone A','End X'].apply(pd.to_numeric))
audl.loc[audl['End Area'] == 'Endzone B','End X'] = 100 + (audl.loc[audl['End Area'] == 'Endzone B','End X'].apply(pd.to_numeric))* 20
audl.loc[audl['Begin Area'] == 'Field','Begin X'] = 20 + (audl.loc[audl['Begin Area'] == 'Field','Begin X'].apply(pd.to_numeric)) * 80
audl.loc[audl['End Area'] == 'Field','End X'] = 20 + (audl.loc[audl['End Area'] == 'Field','End X'].apply(pd.to_numeric)) * 80
audl.loc[audl['Begin Area'] == 'Endzone A','Begin X'] =  (audl.loc[audl['Begin Area'] == 'Endzone A','Begin X'].apply(pd.to_numeric)) * 20
audl.loc[audl['Begin Area'] == 'Endzone B','Begin X'] = 100 + ((audl.loc[audl['Begin Area'] == 'Endzone B','Begin X'].apply(pd.to_numeric))) * 20

# CREATE QUARTER ID & POINT ID
# The idea is to have acces to actions of a specific point in a game or a specific quarter
# Fun fact, a lot of games (almost 700) do not start by a PULL.
# TAKE A LOT OF TIME 

quarter = ['EndOfFirstQuarter', 'Halftime', 'EndOfThirdQuarter', 'EndOfFourthQuarter']
pull = ['Pull', 'PullOb', 'OpponentPull', 'OpponentPullOb' ]

QPDict = pd.DataFrame()

for team in audl_team:
    played_season = sorted(audl.loc[audl['Teamname']== team,'Tournament'].unique())
    
    for season in played_season:
        games = sorted(audl.loc[(audl['Teamname']== team) & (audl['Tournament']== season), 'GID'].unique())
        print(team, season)
        for game in games:

            PID_dict = audl.loc[((audl.Teamname == team) & (audl.Tournament == season) & (audl.GID == game)), ['Event Type','Action','Begin Area','Begin X']]
            PID_dict['QID'] = 0
            PID_dict['PID'] = 0
            PID_dict['Side'] = 0
            Q = 1
            P = 0
            l = 0
            S = float('nan')
            for k,row in PID_dict.iterrows():
                if row['Action'] in quarter:
                    Q += 1
                if row['Action'] in pull:
                    P += 1
                    if row['Begin X'] < 60:
                        S = 'A' + " " + str(row['Event Type'])
                    elif row['Begin X'] > 60:
                        S = 'B' + " " + str(row['Event Type'])
                PID_dict.iloc[l,PID_dict.columns.get_loc('PID')] = P
                PID_dict.iloc[l,PID_dict.columns.get_loc('QID')] = Q
                PID_dict.iloc[l,PID_dict.columns.get_loc('Side')] = S
                l +=1
            QPDict = pd.concat([QPDict, PID_dict])           

QPDict = QPDict.drop(columns=['Event Type','Action','Begin Area','Begin X'])
QPDict = QPDict.sort_index()

audl = pd.merge(audl, QPDict, right_index=True, left_index=True)

# CREATE UNIQUE GAME ID
audl['UID'] = audl['TID'].astype(str) + "-"+ audl['YID'].astype(str) + "-"+audl['GID'].apply(lambda x: '{0:0>2}'.format(x)).astype(str)
#It give an ID to look at a spécific game quickly : 14-2018-13 is the 13th game of the 2018 season of team 14 (MTL)

#GENERATE CSV
audl.to_csv('data.csv', encoding='utf-8')
